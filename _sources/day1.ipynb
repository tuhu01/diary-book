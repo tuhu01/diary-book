{
 "cells": [
  {
   "cell_type": "markdown",
   "metadata": {},
   "source": [
    "# **DAY 1**"
   ]
  },
  {
   "cell_type": "markdown",
   "metadata": {},
   "source": [
    "ini adalah buku diary pertama tuhu yang di upload di github dibuat dengan jupyter-book "
   ]
  },
  {
   "cell_type": "markdown",
   "metadata": {},
   "source": [
    "Kamis 16-5-2024  \n",
    "dimulai dari tuhu mulai bangun jam 4.30 atau berapa pokoknya sekitar segitu aku mulai kegiatan dengan sholat subuh dilanjut dengan membaca wattpad 2 chapter lalu tidur kembali.  \n",
    "  \n",
    "pada saat itulah masalah pertama muncul di hari ini,tuhu bangun kesiangan jam 7 pagi sedangkan kelas dimulai jam 8 tuhu siap\" dan sampai di kelas yang sudah ada dosennya sekitar jam 8.15 , untungnya dosen belum mulai kuliahnya , hanya baru mempersiapkan proyektor dan ppt , kelas dimuali tuhu masi setengah fokus dan lama kelamaan mulai fokus sampai dimana ada materi menggunakan pointer link list disitu fokusku sudah mulai buyar karena gapaham dengan materi ditambah lagi ada demo diluar(demo kenaikan ukt di utm).  \n",
    "  \n",
    "ketika pulang aku sekalian membeli sarapan karena pagi hari tadi belum sempat sarapan , aku membeli geprek di dekat kosku tepatnya dibelakang alfamart, saat itu aku gabut lalu menonton anime dan selang kemudian aku vc kakakku dan membahas tentang sekolah kedinasan pada saat itu aku mulai mendaftar kedinasan.  \n",
    "\n",
    "selang beberapa saat kemudian aku berangkat asistensi praktikum struktur data walaupun hasilnya kurang memuaskan , aku tidak bisa menjawab 1 soal dari asprak (tetap bersyukur). lanjut matkul online \"aku ga merhatiin wkwkwk\" yasudahlah lalu matkul kelar dan aku lanjut gabut gatau ngapain tadi sampai saat magrib aku diajak apip untuk bermain badminton namun aku ketiduran , nah pas ketiduran itu ada info dadakan dari dosen bahwasannya ada matkul online , dan pada saat itu harusnya aku ada presentasi project besar , aku di spam telfon oleh teman\" kelompokku namun teteap saja wkwk lanjut tidurrrr , alhamdulilahnya kelasnya di batalkan gara gara perkelompok secara kebetulan anggotanya -1 semuaa . kelasnya diganti besok malam smoga presentasiku lancar aminnnn. saat ini aku belum bisa tidur lau aku melanjutkan tugas struktur data dan menulis notebook ini . selanjtunya aku mau lanjut mendaftar kedinasan , aku mau ikut tes kedinasan semoga lancar dari pendaftaran sampai tesss aminnnnnnn.sudah cerita hari ini terimaksih"
   ]
  }
 ],
 "metadata": {
  "kernelspec": {
   "display_name": "Python 3",
   "language": "python",
   "name": "python3"
  },
  "language_info": {
   "codemirror_mode": {
    "name": "ipython",
    "version": 3
   },
   "file_extension": ".py",
   "mimetype": "text/x-python",
   "name": "python",
   "nbconvert_exporter": "python",
   "pygments_lexer": "ipython3",
   "version": "3.8.0"
  },
  "widgets": {
   "application/vnd.jupyter.widget-state+json": {
    "state": {},
    "version_major": 2,
    "version_minor": 0
   }
  }
 },
 "nbformat": 4,
 "nbformat_minor": 4
}
